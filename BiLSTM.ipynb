{
  "nbformat": 4,
  "nbformat_minor": 0,
  "metadata": {
    "colab": {
      "provenance": []
    },
    "kernelspec": {
      "name": "python3",
      "display_name": "Python 3"
    },
    "language_info": {
      "name": "python"
    }
  },
  "cells": [
    {
      "cell_type": "code",
      "execution_count": null,
      "metadata": {
        "id": "X00PVSQ8Z1Hs"
      },
      "outputs": [],
      "source": [
        "import pandas as pd\n",
        "from matplotlib import pyplot as plt\n",
        "import numpy as np\n",
        "%matplotlib inline"
      ]
    },
    {
      "cell_type": "code",
      "source": [
        "df = pd.read_csv('/content/drive/MyDrive/Colab Notebooks/data-baru/data-churn.csv')"
      ],
      "metadata": {
        "id": "hPmYfBVOZ-tZ"
      },
      "execution_count": null,
      "outputs": []
    },
    {
      "cell_type": "code",
      "source": [
        "# Menampilkan nama kolom\n",
        "print(df.columns)"
      ],
      "metadata": {
        "colab": {
          "base_uri": "https://localhost:8080/"
        },
        "id": "ddR7SyuYbeKP",
        "outputId": "60dbf317-51ed-4220-8504-5218b276e375"
      },
      "execution_count": null,
      "outputs": [
        {
          "output_type": "stream",
          "name": "stdout",
          "text": [
            "Index(['Company name', 'Service_types', 'Packet_service', 'Media_transmisi',\n",
            "       'Bandwidth', 'State', 'Partner', 'Contract', 'Complaint', 'Churn'],\n",
            "      dtype='object')\n"
          ]
        }
      ]
    },
    {
      "cell_type": "code",
      "source": [
        "#melihat type data kolom\n",
        "print(df.dtypes)"
      ],
      "metadata": {
        "colab": {
          "base_uri": "https://localhost:8080/"
        },
        "id": "PSmX6xJZbg3L",
        "outputId": "5b7a253a-0deb-47fa-88c7-366afdd9a391"
      },
      "execution_count": null,
      "outputs": [
        {
          "output_type": "stream",
          "name": "stdout",
          "text": [
            "Company name        object\n",
            "Service_types       object\n",
            "Packet_service      object\n",
            "Media_transmisi     object\n",
            "Bandwidth          float64\n",
            "State               object\n",
            "Partner             object\n",
            "Contract            object\n",
            "Complaint           object\n",
            "Churn               object\n",
            "dtype: object\n"
          ]
        }
      ]
    },
    {
      "cell_type": "code",
      "source": [
        "#menghapus kolom Company_name\n",
        "df = df.drop(columns=['Company name'])"
      ],
      "metadata": {
        "id": "TfvzeI9gbjZH"
      },
      "execution_count": null,
      "outputs": []
    },
    {
      "cell_type": "code",
      "source": [
        "# Menampilkan nama kolom\n",
        "print(df.columns)"
      ],
      "metadata": {
        "colab": {
          "base_uri": "https://localhost:8080/"
        },
        "id": "H6k2Se1Eb0L2",
        "outputId": "594d0316-ef2b-4e16-f8b8-8c22f9b86fa9"
      },
      "execution_count": null,
      "outputs": [
        {
          "output_type": "stream",
          "name": "stdout",
          "text": [
            "Index(['Service_types', 'Packet_service', 'Media_transmisi', 'Bandwidth',\n",
            "       'State', 'Partner', 'Contract', 'Complaint', 'Churn'],\n",
            "      dtype='object')\n"
          ]
        }
      ]
    },
    {
      "cell_type": "code",
      "source": [
        "#melihat nilai kolom yang unique\n",
        "def print_unique_col_values(df):\n",
        "       for column in df:\n",
        "            if df[column].dtypes=='object':\n",
        "                print(f'{column}: {df[column].unique()}')"
      ],
      "metadata": {
        "id": "zTbkGIL5b37L"
      },
      "execution_count": null,
      "outputs": []
    },
    {
      "cell_type": "code",
      "source": [
        "print_unique_col_values(df)"
      ],
      "metadata": {
        "colab": {
          "base_uri": "https://localhost:8080/"
        },
        "id": "m0McPignb9_8",
        "outputId": "3f2538ea-67a0-41b6-a724-c0ce48fdeb05"
      },
      "execution_count": null,
      "outputs": [
        {
          "output_type": "stream",
          "name": "stdout",
          "text": [
            "Service_types: ['Corporate' 'Retail' nan]\n",
            "Packet_service: ['Permana Home' 'Permana Link' 'Permana Dedicated' 'Permana Hosta'\n",
            " 'Permana Colocation' 'Permana Metro' nan]\n",
            "Media_transmisi: ['Wireless' 'Fiber Optic' 'Ethernet' 'Direct Kabel' nan]\n",
            "State: ['Kepulauan Riau' 'DKI Jakarta' 'Aceh' 'Jawa Barat' 'Jawa Tengah'\n",
            " 'Jakarta' 'Sumatera Utara' 'Riau' 'Banten' 'Jawa Timur'\n",
            " 'Kalimantan Timur' 'Kalimantan Barat' 'Sulawesi Selatan' nan]\n",
            "Partner: ['Yes' 'No' nan]\n",
            "Contract: ['Yearly' 'Monthly' nan]\n",
            "Complaint: ['No' 'Yes' nan]\n",
            "Churn: ['No' 'Yes' nan]\n"
          ]
        }
      ]
    },
    {
      "cell_type": "code",
      "source": [
        "#melihat sample data\n",
        "df.sample(5)"
      ],
      "metadata": {
        "colab": {
          "base_uri": "https://localhost:8080/",
          "height": 206
        },
        "id": "AFL-UofdcFjF",
        "outputId": "cb49301c-3699-4045-cb72-7df25cfb84fa"
      },
      "execution_count": null,
      "outputs": [
        {
          "output_type": "execute_result",
          "data": {
            "text/plain": [
              "    Service_types Packet_service Media_transmisi  Bandwidth           State  \\\n",
              "37      Corporate   Permana Home        Wireless       20.0  Kepulauan Riau   \n",
              "88      Corporate  Permana Hosta        Wireless      100.0            Riau   \n",
              "291     Corporate   Permana Home        Wireless       25.0  Kepulauan Riau   \n",
              "99      Corporate   Permana Home    Direct Kabel       25.0  Kepulauan Riau   \n",
              "450        Retail   Permana Home     Fiber Optic       30.0  Sumatera Utara   \n",
              "\n",
              "    Partner Contract Complaint Churn  \n",
              "37      Yes   Yearly        No    No  \n",
              "88      Yes   Yearly        No    No  \n",
              "291     Yes   Yearly        No    No  \n",
              "99      Yes   Yearly        No    No  \n",
              "450      No   Yearly       Yes   Yes  "
            ],
            "text/html": [
              "\n",
              "  <div id=\"df-3f7af6b0-2093-4124-91af-69579f704a5f\" class=\"colab-df-container\">\n",
              "    <div>\n",
              "<style scoped>\n",
              "    .dataframe tbody tr th:only-of-type {\n",
              "        vertical-align: middle;\n",
              "    }\n",
              "\n",
              "    .dataframe tbody tr th {\n",
              "        vertical-align: top;\n",
              "    }\n",
              "\n",
              "    .dataframe thead th {\n",
              "        text-align: right;\n",
              "    }\n",
              "</style>\n",
              "<table border=\"1\" class=\"dataframe\">\n",
              "  <thead>\n",
              "    <tr style=\"text-align: right;\">\n",
              "      <th></th>\n",
              "      <th>Service_types</th>\n",
              "      <th>Packet_service</th>\n",
              "      <th>Media_transmisi</th>\n",
              "      <th>Bandwidth</th>\n",
              "      <th>State</th>\n",
              "      <th>Partner</th>\n",
              "      <th>Contract</th>\n",
              "      <th>Complaint</th>\n",
              "      <th>Churn</th>\n",
              "    </tr>\n",
              "  </thead>\n",
              "  <tbody>\n",
              "    <tr>\n",
              "      <th>37</th>\n",
              "      <td>Corporate</td>\n",
              "      <td>Permana Home</td>\n",
              "      <td>Wireless</td>\n",
              "      <td>20.0</td>\n",
              "      <td>Kepulauan Riau</td>\n",
              "      <td>Yes</td>\n",
              "      <td>Yearly</td>\n",
              "      <td>No</td>\n",
              "      <td>No</td>\n",
              "    </tr>\n",
              "    <tr>\n",
              "      <th>88</th>\n",
              "      <td>Corporate</td>\n",
              "      <td>Permana Hosta</td>\n",
              "      <td>Wireless</td>\n",
              "      <td>100.0</td>\n",
              "      <td>Riau</td>\n",
              "      <td>Yes</td>\n",
              "      <td>Yearly</td>\n",
              "      <td>No</td>\n",
              "      <td>No</td>\n",
              "    </tr>\n",
              "    <tr>\n",
              "      <th>291</th>\n",
              "      <td>Corporate</td>\n",
              "      <td>Permana Home</td>\n",
              "      <td>Wireless</td>\n",
              "      <td>25.0</td>\n",
              "      <td>Kepulauan Riau</td>\n",
              "      <td>Yes</td>\n",
              "      <td>Yearly</td>\n",
              "      <td>No</td>\n",
              "      <td>No</td>\n",
              "    </tr>\n",
              "    <tr>\n",
              "      <th>99</th>\n",
              "      <td>Corporate</td>\n",
              "      <td>Permana Home</td>\n",
              "      <td>Direct Kabel</td>\n",
              "      <td>25.0</td>\n",
              "      <td>Kepulauan Riau</td>\n",
              "      <td>Yes</td>\n",
              "      <td>Yearly</td>\n",
              "      <td>No</td>\n",
              "      <td>No</td>\n",
              "    </tr>\n",
              "    <tr>\n",
              "      <th>450</th>\n",
              "      <td>Retail</td>\n",
              "      <td>Permana Home</td>\n",
              "      <td>Fiber Optic</td>\n",
              "      <td>30.0</td>\n",
              "      <td>Sumatera Utara</td>\n",
              "      <td>No</td>\n",
              "      <td>Yearly</td>\n",
              "      <td>Yes</td>\n",
              "      <td>Yes</td>\n",
              "    </tr>\n",
              "  </tbody>\n",
              "</table>\n",
              "</div>\n",
              "    <div class=\"colab-df-buttons\">\n",
              "\n",
              "  <div class=\"colab-df-container\">\n",
              "    <button class=\"colab-df-convert\" onclick=\"convertToInteractive('df-3f7af6b0-2093-4124-91af-69579f704a5f')\"\n",
              "            title=\"Convert this dataframe to an interactive table.\"\n",
              "            style=\"display:none;\">\n",
              "\n",
              "  <svg xmlns=\"http://www.w3.org/2000/svg\" height=\"24px\" viewBox=\"0 -960 960 960\">\n",
              "    <path d=\"M120-120v-720h720v720H120Zm60-500h600v-160H180v160Zm220 220h160v-160H400v160Zm0 220h160v-160H400v160ZM180-400h160v-160H180v160Zm440 0h160v-160H620v160ZM180-180h160v-160H180v160Zm440 0h160v-160H620v160Z\"/>\n",
              "  </svg>\n",
              "    </button>\n",
              "\n",
              "  <style>\n",
              "    .colab-df-container {\n",
              "      display:flex;\n",
              "      gap: 12px;\n",
              "    }\n",
              "\n",
              "    .colab-df-convert {\n",
              "      background-color: #E8F0FE;\n",
              "      border: none;\n",
              "      border-radius: 50%;\n",
              "      cursor: pointer;\n",
              "      display: none;\n",
              "      fill: #1967D2;\n",
              "      height: 32px;\n",
              "      padding: 0 0 0 0;\n",
              "      width: 32px;\n",
              "    }\n",
              "\n",
              "    .colab-df-convert:hover {\n",
              "      background-color: #E2EBFA;\n",
              "      box-shadow: 0px 1px 2px rgba(60, 64, 67, 0.3), 0px 1px 3px 1px rgba(60, 64, 67, 0.15);\n",
              "      fill: #174EA6;\n",
              "    }\n",
              "\n",
              "    .colab-df-buttons div {\n",
              "      margin-bottom: 4px;\n",
              "    }\n",
              "\n",
              "    [theme=dark] .colab-df-convert {\n",
              "      background-color: #3B4455;\n",
              "      fill: #D2E3FC;\n",
              "    }\n",
              "\n",
              "    [theme=dark] .colab-df-convert:hover {\n",
              "      background-color: #434B5C;\n",
              "      box-shadow: 0px 1px 3px 1px rgba(0, 0, 0, 0.15);\n",
              "      filter: drop-shadow(0px 1px 2px rgba(0, 0, 0, 0.3));\n",
              "      fill: #FFFFFF;\n",
              "    }\n",
              "  </style>\n",
              "\n",
              "    <script>\n",
              "      const buttonEl =\n",
              "        document.querySelector('#df-3f7af6b0-2093-4124-91af-69579f704a5f button.colab-df-convert');\n",
              "      buttonEl.style.display =\n",
              "        google.colab.kernel.accessAllowed ? 'block' : 'none';\n",
              "\n",
              "      async function convertToInteractive(key) {\n",
              "        const element = document.querySelector('#df-3f7af6b0-2093-4124-91af-69579f704a5f');\n",
              "        const dataTable =\n",
              "          await google.colab.kernel.invokeFunction('convertToInteractive',\n",
              "                                                    [key], {});\n",
              "        if (!dataTable) return;\n",
              "\n",
              "        const docLinkHtml = 'Like what you see? Visit the ' +\n",
              "          '<a target=\"_blank\" href=https://colab.research.google.com/notebooks/data_table.ipynb>data table notebook</a>'\n",
              "          + ' to learn more about interactive tables.';\n",
              "        element.innerHTML = '';\n",
              "        dataTable['output_type'] = 'display_data';\n",
              "        await google.colab.output.renderOutput(dataTable, element);\n",
              "        const docLink = document.createElement('div');\n",
              "        docLink.innerHTML = docLinkHtml;\n",
              "        element.appendChild(docLink);\n",
              "      }\n",
              "    </script>\n",
              "  </div>\n",
              "\n",
              "\n",
              "<div id=\"df-dda297f8-89e0-4b25-8fb7-3acaa81adbc8\">\n",
              "  <button class=\"colab-df-quickchart\" onclick=\"quickchart('df-dda297f8-89e0-4b25-8fb7-3acaa81adbc8')\"\n",
              "            title=\"Suggest charts\"\n",
              "            style=\"display:none;\">\n",
              "\n",
              "<svg xmlns=\"http://www.w3.org/2000/svg\" height=\"24px\"viewBox=\"0 0 24 24\"\n",
              "     width=\"24px\">\n",
              "    <g>\n",
              "        <path d=\"M19 3H5c-1.1 0-2 .9-2 2v14c0 1.1.9 2 2 2h14c1.1 0 2-.9 2-2V5c0-1.1-.9-2-2-2zM9 17H7v-7h2v7zm4 0h-2V7h2v10zm4 0h-2v-4h2v4z\"/>\n",
              "    </g>\n",
              "</svg>\n",
              "  </button>\n",
              "\n",
              "<style>\n",
              "  .colab-df-quickchart {\n",
              "      --bg-color: #E8F0FE;\n",
              "      --fill-color: #1967D2;\n",
              "      --hover-bg-color: #E2EBFA;\n",
              "      --hover-fill-color: #174EA6;\n",
              "      --disabled-fill-color: #AAA;\n",
              "      --disabled-bg-color: #DDD;\n",
              "  }\n",
              "\n",
              "  [theme=dark] .colab-df-quickchart {\n",
              "      --bg-color: #3B4455;\n",
              "      --fill-color: #D2E3FC;\n",
              "      --hover-bg-color: #434B5C;\n",
              "      --hover-fill-color: #FFFFFF;\n",
              "      --disabled-bg-color: #3B4455;\n",
              "      --disabled-fill-color: #666;\n",
              "  }\n",
              "\n",
              "  .colab-df-quickchart {\n",
              "    background-color: var(--bg-color);\n",
              "    border: none;\n",
              "    border-radius: 50%;\n",
              "    cursor: pointer;\n",
              "    display: none;\n",
              "    fill: var(--fill-color);\n",
              "    height: 32px;\n",
              "    padding: 0;\n",
              "    width: 32px;\n",
              "  }\n",
              "\n",
              "  .colab-df-quickchart:hover {\n",
              "    background-color: var(--hover-bg-color);\n",
              "    box-shadow: 0 1px 2px rgba(60, 64, 67, 0.3), 0 1px 3px 1px rgba(60, 64, 67, 0.15);\n",
              "    fill: var(--button-hover-fill-color);\n",
              "  }\n",
              "\n",
              "  .colab-df-quickchart-complete:disabled,\n",
              "  .colab-df-quickchart-complete:disabled:hover {\n",
              "    background-color: var(--disabled-bg-color);\n",
              "    fill: var(--disabled-fill-color);\n",
              "    box-shadow: none;\n",
              "  }\n",
              "\n",
              "  .colab-df-spinner {\n",
              "    border: 2px solid var(--fill-color);\n",
              "    border-color: transparent;\n",
              "    border-bottom-color: var(--fill-color);\n",
              "    animation:\n",
              "      spin 1s steps(1) infinite;\n",
              "  }\n",
              "\n",
              "  @keyframes spin {\n",
              "    0% {\n",
              "      border-color: transparent;\n",
              "      border-bottom-color: var(--fill-color);\n",
              "      border-left-color: var(--fill-color);\n",
              "    }\n",
              "    20% {\n",
              "      border-color: transparent;\n",
              "      border-left-color: var(--fill-color);\n",
              "      border-top-color: var(--fill-color);\n",
              "    }\n",
              "    30% {\n",
              "      border-color: transparent;\n",
              "      border-left-color: var(--fill-color);\n",
              "      border-top-color: var(--fill-color);\n",
              "      border-right-color: var(--fill-color);\n",
              "    }\n",
              "    40% {\n",
              "      border-color: transparent;\n",
              "      border-right-color: var(--fill-color);\n",
              "      border-top-color: var(--fill-color);\n",
              "    }\n",
              "    60% {\n",
              "      border-color: transparent;\n",
              "      border-right-color: var(--fill-color);\n",
              "    }\n",
              "    80% {\n",
              "      border-color: transparent;\n",
              "      border-right-color: var(--fill-color);\n",
              "      border-bottom-color: var(--fill-color);\n",
              "    }\n",
              "    90% {\n",
              "      border-color: transparent;\n",
              "      border-bottom-color: var(--fill-color);\n",
              "    }\n",
              "  }\n",
              "</style>\n",
              "\n",
              "  <script>\n",
              "    async function quickchart(key) {\n",
              "      const quickchartButtonEl =\n",
              "        document.querySelector('#' + key + ' button');\n",
              "      quickchartButtonEl.disabled = true;  // To prevent multiple clicks.\n",
              "      quickchartButtonEl.classList.add('colab-df-spinner');\n",
              "      try {\n",
              "        const charts = await google.colab.kernel.invokeFunction(\n",
              "            'suggestCharts', [key], {});\n",
              "      } catch (error) {\n",
              "        console.error('Error during call to suggestCharts:', error);\n",
              "      }\n",
              "      quickchartButtonEl.classList.remove('colab-df-spinner');\n",
              "      quickchartButtonEl.classList.add('colab-df-quickchart-complete');\n",
              "    }\n",
              "    (() => {\n",
              "      let quickchartButtonEl =\n",
              "        document.querySelector('#df-dda297f8-89e0-4b25-8fb7-3acaa81adbc8 button');\n",
              "      quickchartButtonEl.style.display =\n",
              "        google.colab.kernel.accessAllowed ? 'block' : 'none';\n",
              "    })();\n",
              "  </script>\n",
              "</div>\n",
              "\n",
              "    </div>\n",
              "  </div>\n"
            ],
            "application/vnd.google.colaboratory.intrinsic+json": {
              "type": "dataframe",
              "summary": "{\n  \"name\": \"df\",\n  \"rows\": 5,\n  \"fields\": [\n    {\n      \"column\": \"Service_types\",\n      \"properties\": {\n        \"dtype\": \"category\",\n        \"num_unique_values\": 2,\n        \"samples\": [\n          \"Retail\",\n          \"Corporate\"\n        ],\n        \"semantic_type\": \"\",\n        \"description\": \"\"\n      }\n    },\n    {\n      \"column\": \"Packet_service\",\n      \"properties\": {\n        \"dtype\": \"category\",\n        \"num_unique_values\": 2,\n        \"samples\": [\n          \"Permana Hosta\",\n          \"Permana Home\"\n        ],\n        \"semantic_type\": \"\",\n        \"description\": \"\"\n      }\n    },\n    {\n      \"column\": \"Media_transmisi\",\n      \"properties\": {\n        \"dtype\": \"string\",\n        \"num_unique_values\": 3,\n        \"samples\": [\n          \"Wireless\",\n          \"Direct Kabel\"\n        ],\n        \"semantic_type\": \"\",\n        \"description\": \"\"\n      }\n    },\n    {\n      \"column\": \"Bandwidth\",\n      \"properties\": {\n        \"dtype\": \"number\",\n        \"std\": 33.726843908080106,\n        \"min\": 20.0,\n        \"max\": 100.0,\n        \"num_unique_values\": 4,\n        \"samples\": [\n          100.0,\n          30.0\n        ],\n        \"semantic_type\": \"\",\n        \"description\": \"\"\n      }\n    },\n    {\n      \"column\": \"State\",\n      \"properties\": {\n        \"dtype\": \"string\",\n        \"num_unique_values\": 3,\n        \"samples\": [\n          \"Kepulauan Riau\",\n          \"Riau\"\n        ],\n        \"semantic_type\": \"\",\n        \"description\": \"\"\n      }\n    },\n    {\n      \"column\": \"Partner\",\n      \"properties\": {\n        \"dtype\": \"category\",\n        \"num_unique_values\": 2,\n        \"samples\": [\n          \"No\",\n          \"Yes\"\n        ],\n        \"semantic_type\": \"\",\n        \"description\": \"\"\n      }\n    },\n    {\n      \"column\": \"Contract\",\n      \"properties\": {\n        \"dtype\": \"category\",\n        \"num_unique_values\": 1,\n        \"samples\": [\n          \"Yearly\"\n        ],\n        \"semantic_type\": \"\",\n        \"description\": \"\"\n      }\n    },\n    {\n      \"column\": \"Complaint\",\n      \"properties\": {\n        \"dtype\": \"category\",\n        \"num_unique_values\": 2,\n        \"samples\": [\n          \"Yes\"\n        ],\n        \"semantic_type\": \"\",\n        \"description\": \"\"\n      }\n    },\n    {\n      \"column\": \"Churn\",\n      \"properties\": {\n        \"dtype\": \"category\",\n        \"num_unique_values\": 2,\n        \"samples\": [\n          \"Yes\"\n        ],\n        \"semantic_type\": \"\",\n        \"description\": \"\"\n      }\n    }\n  ]\n}"
            }
          },
          "metadata": {},
          "execution_count": 117
        }
      ]
    },
    {
      "cell_type": "code",
      "source": [
        "print(\"\\nNaN dalam DataFrame:\")\n",
        "print(df.isnull())"
      ],
      "metadata": {
        "colab": {
          "base_uri": "https://localhost:8080/"
        },
        "id": "RnLT88YRc_a5",
        "outputId": "6eeb41dc-eac6-4633-c76b-f330dd26b9d0"
      },
      "execution_count": null,
      "outputs": [
        {
          "output_type": "stream",
          "name": "stdout",
          "text": [
            "\n",
            "NaN dalam DataFrame:\n",
            "     Service_types  Packet_service  Media_transmisi  Bandwidth  State  \\\n",
            "0            False           False            False      False  False   \n",
            "1            False           False            False      False  False   \n",
            "2            False           False            False      False  False   \n",
            "3            False           False            False      False  False   \n",
            "4            False           False            False      False  False   \n",
            "..             ...             ...              ...        ...    ...   \n",
            "845          False           False            False      False  False   \n",
            "846          False           False            False      False  False   \n",
            "847          False           False            False      False  False   \n",
            "848          False           False            False      False  False   \n",
            "849           True            True             True       True   True   \n",
            "\n",
            "     Partner  Contract  Complaint  Churn  \n",
            "0      False     False      False  False  \n",
            "1      False     False      False  False  \n",
            "2      False     False      False  False  \n",
            "3      False     False      False  False  \n",
            "4      False     False      False  False  \n",
            "..       ...       ...        ...    ...  \n",
            "845    False     False      False  False  \n",
            "846    False     False      False  False  \n",
            "847    False     False      False  False  \n",
            "848    False     False      False  False  \n",
            "849     True      True       True   True  \n",
            "\n",
            "[850 rows x 9 columns]\n"
          ]
        }
      ]
    },
    {
      "cell_type": "code",
      "source": [
        "print(\"Lima baris terakhir dari DataFrame:\")\n",
        "print(df.tail())"
      ],
      "metadata": {
        "colab": {
          "base_uri": "https://localhost:8080/"
        },
        "id": "37_53_8qeM7E",
        "outputId": "fad31327-7377-42c5-a8ae-9da3adca2fe7"
      },
      "execution_count": null,
      "outputs": [
        {
          "output_type": "stream",
          "name": "stdout",
          "text": [
            "Lima baris terakhir dari DataFrame:\n",
            "    Service_types Packet_service Media_transmisi  Bandwidth           State  \\\n",
            "845        Retail   Permana Home     Fiber Optic       30.0  Sumatera Utara   \n",
            "846        Retail   Permana Home     Fiber Optic       30.0  Sumatera Utara   \n",
            "847        Retail   Permana Home     Fiber Optic       30.0  Kepulauan Riau   \n",
            "848        Retail   Permana Home     Fiber Optic       30.0  Sumatera Utara   \n",
            "849           NaN            NaN             NaN        NaN             NaN   \n",
            "\n",
            "    Partner Contract Complaint Churn  \n",
            "845      No  Monthly        No    No  \n",
            "846      No  Monthly        No    No  \n",
            "847      No  Monthly        No    No  \n",
            "848      No   Yearly        No    No  \n",
            "849     NaN      NaN       NaN   NaN  \n"
          ]
        }
      ]
    },
    {
      "cell_type": "code",
      "source": [
        "# Menghapus baris yang mengandung NaN\n",
        "df = df.dropna()\n",
        "print(\"DataFrame setelah menghapus baris yang mengandung NaN:\")\n",
        "print(df)"
      ],
      "metadata": {
        "colab": {
          "base_uri": "https://localhost:8080/"
        },
        "id": "6L8l0fWuePtg",
        "outputId": "1317f04c-016a-4c20-e0da-5e44fd76d5ae"
      },
      "execution_count": null,
      "outputs": [
        {
          "output_type": "stream",
          "name": "stdout",
          "text": [
            "DataFrame setelah menghapus baris yang mengandung NaN:\n",
            "    Service_types Packet_service Media_transmisi  Bandwidth           State  \\\n",
            "0       Corporate   Permana Home        Wireless       10.0  Kepulauan Riau   \n",
            "1       Corporate   Permana Home        Wireless       20.0  Kepulauan Riau   \n",
            "2       Corporate   Permana Link        Wireless       30.0  Kepulauan Riau   \n",
            "3       Corporate   Permana Link     Fiber Optic       20.0  Kepulauan Riau   \n",
            "4       Corporate   Permana Link        Wireless       20.0  Kepulauan Riau   \n",
            "..            ...            ...             ...        ...             ...   \n",
            "844        Retail   Permana Home     Fiber Optic       30.0  Sumatera Utara   \n",
            "845        Retail   Permana Home     Fiber Optic       30.0  Sumatera Utara   \n",
            "846        Retail   Permana Home     Fiber Optic       30.0  Sumatera Utara   \n",
            "847        Retail   Permana Home     Fiber Optic       30.0  Kepulauan Riau   \n",
            "848        Retail   Permana Home     Fiber Optic       30.0  Sumatera Utara   \n",
            "\n",
            "    Partner Contract Complaint Churn  \n",
            "0       Yes   Yearly        No    No  \n",
            "1       Yes   Yearly        No    No  \n",
            "2       Yes   Yearly        No    No  \n",
            "3       Yes   Yearly        No    No  \n",
            "4       Yes   Yearly        No    No  \n",
            "..      ...      ...       ...   ...  \n",
            "844      No  Monthly        No    No  \n",
            "845      No  Monthly        No    No  \n",
            "846      No  Monthly        No    No  \n",
            "847      No  Monthly        No    No  \n",
            "848      No   Yearly        No    No  \n",
            "\n",
            "[849 rows x 9 columns]\n"
          ]
        }
      ]
    },
    {
      "cell_type": "code",
      "source": [
        "#mengubah data Yes/No ke 1/0\n",
        "yes_no_columns = ['Partner','Complaint', 'Churn']\n",
        "for col in yes_no_columns:\n",
        "  df[col].replace({'Yes':1, 'No':0}, inplace=True)"
      ],
      "metadata": {
        "id": "03wiC4vweXx6"
      },
      "execution_count": null,
      "outputs": []
    },
    {
      "cell_type": "code",
      "source": [
        "#mengubah nilai menjadi 1/0\n",
        "df['Service_types'].replace({'Retail':0, 'Corporate':1},inplace=True)\n",
        "\n",
        "df['Contract'].replace({'Yearly':1, 'Monthly':0},inplace=True)"
      ],
      "metadata": {
        "id": "9bAdJhCLfCJr"
      },
      "execution_count": null,
      "outputs": []
    },
    {
      "cell_type": "code",
      "source": [
        "#mapping\n",
        "\n",
        "df['State'].replace({'Kepulauan Riau':0, 'DKI Jakarta':1, 'Aceh':2, 'Jawa Barat':3, 'Jawa Tengah':4,\n",
        " 'Jakarta':5, 'Sumatera Utara':6, 'Riau':7, 'Banten':8, 'Jawa Timur':9,\n",
        " 'Kalimantan Timur':10, 'Kalimantan Barat':11, 'Sulawesi Selatan':12},inplace=True)\n",
        "\n",
        "df['Packet_service'].replace({'Permana Home':0, 'Permana Link':1, 'Permana Dedicated':2, 'Permana Hosta':3,\n",
        " 'Permana Colocation':4, 'Permana Metro':5},inplace=True)\n",
        "\n",
        "df['Media_transmisi'].replace({'Wireless':0, 'Fiber Optic':1, 'Ethernet':2, 'Direct Kabel':3},inplace=True)"
      ],
      "metadata": {
        "id": "gvvlb96XfUjN"
      },
      "execution_count": null,
      "outputs": []
    },
    {
      "cell_type": "code",
      "source": [
        "#melihat type data kolom\n",
        "print(df.dtypes)"
      ],
      "metadata": {
        "colab": {
          "base_uri": "https://localhost:8080/"
        },
        "id": "NX6vwmfghdUc",
        "outputId": "98b6b37b-95e1-4dd6-dd3d-78049f171e69"
      },
      "execution_count": null,
      "outputs": [
        {
          "output_type": "stream",
          "name": "stdout",
          "text": [
            "Service_types        int64\n",
            "Packet_service       int64\n",
            "Media_transmisi      int64\n",
            "Bandwidth          float64\n",
            "State                int64\n",
            "Partner              int64\n",
            "Contract             int64\n",
            "Complaint            int64\n",
            "Churn                int64\n",
            "dtype: object\n"
          ]
        }
      ]
    },
    {
      "cell_type": "code",
      "source": [
        "# Mengubah semua kolom dari float ke int\n",
        "df.astype(int)"
      ],
      "metadata": {
        "colab": {
          "base_uri": "https://localhost:8080/",
          "height": 424
        },
        "id": "f5jCniZwh2WF",
        "outputId": "1fccf854-bc04-4bc2-95c8-c2d0b2eeb7bd"
      },
      "execution_count": null,
      "outputs": [
        {
          "output_type": "execute_result",
          "data": {
            "text/plain": [
              "     Service_types  Packet_service  Media_transmisi  Bandwidth  State  \\\n",
              "0                1               0                0         10      0   \n",
              "1                1               0                0         20      0   \n",
              "2                1               1                0         30      0   \n",
              "3                1               1                1         20      0   \n",
              "4                1               1                0         20      0   \n",
              "..             ...             ...              ...        ...    ...   \n",
              "844              0               0                1         30      6   \n",
              "845              0               0                1         30      6   \n",
              "846              0               0                1         30      6   \n",
              "847              0               0                1         30      0   \n",
              "848              0               0                1         30      6   \n",
              "\n",
              "     Partner  Contract  Complaint  Churn  \n",
              "0          1         1          0      0  \n",
              "1          1         1          0      0  \n",
              "2          1         1          0      0  \n",
              "3          1         1          0      0  \n",
              "4          1         1          0      0  \n",
              "..       ...       ...        ...    ...  \n",
              "844        0         0          0      0  \n",
              "845        0         0          0      0  \n",
              "846        0         0          0      0  \n",
              "847        0         0          0      0  \n",
              "848        0         1          0      0  \n",
              "\n",
              "[849 rows x 9 columns]"
            ],
            "text/html": [
              "\n",
              "  <div id=\"df-498b16b2-d43a-407c-837d-ee43e76de55a\" class=\"colab-df-container\">\n",
              "    <div>\n",
              "<style scoped>\n",
              "    .dataframe tbody tr th:only-of-type {\n",
              "        vertical-align: middle;\n",
              "    }\n",
              "\n",
              "    .dataframe tbody tr th {\n",
              "        vertical-align: top;\n",
              "    }\n",
              "\n",
              "    .dataframe thead th {\n",
              "        text-align: right;\n",
              "    }\n",
              "</style>\n",
              "<table border=\"1\" class=\"dataframe\">\n",
              "  <thead>\n",
              "    <tr style=\"text-align: right;\">\n",
              "      <th></th>\n",
              "      <th>Service_types</th>\n",
              "      <th>Packet_service</th>\n",
              "      <th>Media_transmisi</th>\n",
              "      <th>Bandwidth</th>\n",
              "      <th>State</th>\n",
              "      <th>Partner</th>\n",
              "      <th>Contract</th>\n",
              "      <th>Complaint</th>\n",
              "      <th>Churn</th>\n",
              "    </tr>\n",
              "  </thead>\n",
              "  <tbody>\n",
              "    <tr>\n",
              "      <th>0</th>\n",
              "      <td>1</td>\n",
              "      <td>0</td>\n",
              "      <td>0</td>\n",
              "      <td>10</td>\n",
              "      <td>0</td>\n",
              "      <td>1</td>\n",
              "      <td>1</td>\n",
              "      <td>0</td>\n",
              "      <td>0</td>\n",
              "    </tr>\n",
              "    <tr>\n",
              "      <th>1</th>\n",
              "      <td>1</td>\n",
              "      <td>0</td>\n",
              "      <td>0</td>\n",
              "      <td>20</td>\n",
              "      <td>0</td>\n",
              "      <td>1</td>\n",
              "      <td>1</td>\n",
              "      <td>0</td>\n",
              "      <td>0</td>\n",
              "    </tr>\n",
              "    <tr>\n",
              "      <th>2</th>\n",
              "      <td>1</td>\n",
              "      <td>1</td>\n",
              "      <td>0</td>\n",
              "      <td>30</td>\n",
              "      <td>0</td>\n",
              "      <td>1</td>\n",
              "      <td>1</td>\n",
              "      <td>0</td>\n",
              "      <td>0</td>\n",
              "    </tr>\n",
              "    <tr>\n",
              "      <th>3</th>\n",
              "      <td>1</td>\n",
              "      <td>1</td>\n",
              "      <td>1</td>\n",
              "      <td>20</td>\n",
              "      <td>0</td>\n",
              "      <td>1</td>\n",
              "      <td>1</td>\n",
              "      <td>0</td>\n",
              "      <td>0</td>\n",
              "    </tr>\n",
              "    <tr>\n",
              "      <th>4</th>\n",
              "      <td>1</td>\n",
              "      <td>1</td>\n",
              "      <td>0</td>\n",
              "      <td>20</td>\n",
              "      <td>0</td>\n",
              "      <td>1</td>\n",
              "      <td>1</td>\n",
              "      <td>0</td>\n",
              "      <td>0</td>\n",
              "    </tr>\n",
              "    <tr>\n",
              "      <th>...</th>\n",
              "      <td>...</td>\n",
              "      <td>...</td>\n",
              "      <td>...</td>\n",
              "      <td>...</td>\n",
              "      <td>...</td>\n",
              "      <td>...</td>\n",
              "      <td>...</td>\n",
              "      <td>...</td>\n",
              "      <td>...</td>\n",
              "    </tr>\n",
              "    <tr>\n",
              "      <th>844</th>\n",
              "      <td>0</td>\n",
              "      <td>0</td>\n",
              "      <td>1</td>\n",
              "      <td>30</td>\n",
              "      <td>6</td>\n",
              "      <td>0</td>\n",
              "      <td>0</td>\n",
              "      <td>0</td>\n",
              "      <td>0</td>\n",
              "    </tr>\n",
              "    <tr>\n",
              "      <th>845</th>\n",
              "      <td>0</td>\n",
              "      <td>0</td>\n",
              "      <td>1</td>\n",
              "      <td>30</td>\n",
              "      <td>6</td>\n",
              "      <td>0</td>\n",
              "      <td>0</td>\n",
              "      <td>0</td>\n",
              "      <td>0</td>\n",
              "    </tr>\n",
              "    <tr>\n",
              "      <th>846</th>\n",
              "      <td>0</td>\n",
              "      <td>0</td>\n",
              "      <td>1</td>\n",
              "      <td>30</td>\n",
              "      <td>6</td>\n",
              "      <td>0</td>\n",
              "      <td>0</td>\n",
              "      <td>0</td>\n",
              "      <td>0</td>\n",
              "    </tr>\n",
              "    <tr>\n",
              "      <th>847</th>\n",
              "      <td>0</td>\n",
              "      <td>0</td>\n",
              "      <td>1</td>\n",
              "      <td>30</td>\n",
              "      <td>0</td>\n",
              "      <td>0</td>\n",
              "      <td>0</td>\n",
              "      <td>0</td>\n",
              "      <td>0</td>\n",
              "    </tr>\n",
              "    <tr>\n",
              "      <th>848</th>\n",
              "      <td>0</td>\n",
              "      <td>0</td>\n",
              "      <td>1</td>\n",
              "      <td>30</td>\n",
              "      <td>6</td>\n",
              "      <td>0</td>\n",
              "      <td>1</td>\n",
              "      <td>0</td>\n",
              "      <td>0</td>\n",
              "    </tr>\n",
              "  </tbody>\n",
              "</table>\n",
              "<p>849 rows × 9 columns</p>\n",
              "</div>\n",
              "    <div class=\"colab-df-buttons\">\n",
              "\n",
              "  <div class=\"colab-df-container\">\n",
              "    <button class=\"colab-df-convert\" onclick=\"convertToInteractive('df-498b16b2-d43a-407c-837d-ee43e76de55a')\"\n",
              "            title=\"Convert this dataframe to an interactive table.\"\n",
              "            style=\"display:none;\">\n",
              "\n",
              "  <svg xmlns=\"http://www.w3.org/2000/svg\" height=\"24px\" viewBox=\"0 -960 960 960\">\n",
              "    <path d=\"M120-120v-720h720v720H120Zm60-500h600v-160H180v160Zm220 220h160v-160H400v160Zm0 220h160v-160H400v160ZM180-400h160v-160H180v160Zm440 0h160v-160H620v160ZM180-180h160v-160H180v160Zm440 0h160v-160H620v160Z\"/>\n",
              "  </svg>\n",
              "    </button>\n",
              "\n",
              "  <style>\n",
              "    .colab-df-container {\n",
              "      display:flex;\n",
              "      gap: 12px;\n",
              "    }\n",
              "\n",
              "    .colab-df-convert {\n",
              "      background-color: #E8F0FE;\n",
              "      border: none;\n",
              "      border-radius: 50%;\n",
              "      cursor: pointer;\n",
              "      display: none;\n",
              "      fill: #1967D2;\n",
              "      height: 32px;\n",
              "      padding: 0 0 0 0;\n",
              "      width: 32px;\n",
              "    }\n",
              "\n",
              "    .colab-df-convert:hover {\n",
              "      background-color: #E2EBFA;\n",
              "      box-shadow: 0px 1px 2px rgba(60, 64, 67, 0.3), 0px 1px 3px 1px rgba(60, 64, 67, 0.15);\n",
              "      fill: #174EA6;\n",
              "    }\n",
              "\n",
              "    .colab-df-buttons div {\n",
              "      margin-bottom: 4px;\n",
              "    }\n",
              "\n",
              "    [theme=dark] .colab-df-convert {\n",
              "      background-color: #3B4455;\n",
              "      fill: #D2E3FC;\n",
              "    }\n",
              "\n",
              "    [theme=dark] .colab-df-convert:hover {\n",
              "      background-color: #434B5C;\n",
              "      box-shadow: 0px 1px 3px 1px rgba(0, 0, 0, 0.15);\n",
              "      filter: drop-shadow(0px 1px 2px rgba(0, 0, 0, 0.3));\n",
              "      fill: #FFFFFF;\n",
              "    }\n",
              "  </style>\n",
              "\n",
              "    <script>\n",
              "      const buttonEl =\n",
              "        document.querySelector('#df-498b16b2-d43a-407c-837d-ee43e76de55a button.colab-df-convert');\n",
              "      buttonEl.style.display =\n",
              "        google.colab.kernel.accessAllowed ? 'block' : 'none';\n",
              "\n",
              "      async function convertToInteractive(key) {\n",
              "        const element = document.querySelector('#df-498b16b2-d43a-407c-837d-ee43e76de55a');\n",
              "        const dataTable =\n",
              "          await google.colab.kernel.invokeFunction('convertToInteractive',\n",
              "                                                    [key], {});\n",
              "        if (!dataTable) return;\n",
              "\n",
              "        const docLinkHtml = 'Like what you see? Visit the ' +\n",
              "          '<a target=\"_blank\" href=https://colab.research.google.com/notebooks/data_table.ipynb>data table notebook</a>'\n",
              "          + ' to learn more about interactive tables.';\n",
              "        element.innerHTML = '';\n",
              "        dataTable['output_type'] = 'display_data';\n",
              "        await google.colab.output.renderOutput(dataTable, element);\n",
              "        const docLink = document.createElement('div');\n",
              "        docLink.innerHTML = docLinkHtml;\n",
              "        element.appendChild(docLink);\n",
              "      }\n",
              "    </script>\n",
              "  </div>\n",
              "\n",
              "\n",
              "<div id=\"df-9cf9eb78-3555-4f7f-9881-bcbf6c48ed92\">\n",
              "  <button class=\"colab-df-quickchart\" onclick=\"quickchart('df-9cf9eb78-3555-4f7f-9881-bcbf6c48ed92')\"\n",
              "            title=\"Suggest charts\"\n",
              "            style=\"display:none;\">\n",
              "\n",
              "<svg xmlns=\"http://www.w3.org/2000/svg\" height=\"24px\"viewBox=\"0 0 24 24\"\n",
              "     width=\"24px\">\n",
              "    <g>\n",
              "        <path d=\"M19 3H5c-1.1 0-2 .9-2 2v14c0 1.1.9 2 2 2h14c1.1 0 2-.9 2-2V5c0-1.1-.9-2-2-2zM9 17H7v-7h2v7zm4 0h-2V7h2v10zm4 0h-2v-4h2v4z\"/>\n",
              "    </g>\n",
              "</svg>\n",
              "  </button>\n",
              "\n",
              "<style>\n",
              "  .colab-df-quickchart {\n",
              "      --bg-color: #E8F0FE;\n",
              "      --fill-color: #1967D2;\n",
              "      --hover-bg-color: #E2EBFA;\n",
              "      --hover-fill-color: #174EA6;\n",
              "      --disabled-fill-color: #AAA;\n",
              "      --disabled-bg-color: #DDD;\n",
              "  }\n",
              "\n",
              "  [theme=dark] .colab-df-quickchart {\n",
              "      --bg-color: #3B4455;\n",
              "      --fill-color: #D2E3FC;\n",
              "      --hover-bg-color: #434B5C;\n",
              "      --hover-fill-color: #FFFFFF;\n",
              "      --disabled-bg-color: #3B4455;\n",
              "      --disabled-fill-color: #666;\n",
              "  }\n",
              "\n",
              "  .colab-df-quickchart {\n",
              "    background-color: var(--bg-color);\n",
              "    border: none;\n",
              "    border-radius: 50%;\n",
              "    cursor: pointer;\n",
              "    display: none;\n",
              "    fill: var(--fill-color);\n",
              "    height: 32px;\n",
              "    padding: 0;\n",
              "    width: 32px;\n",
              "  }\n",
              "\n",
              "  .colab-df-quickchart:hover {\n",
              "    background-color: var(--hover-bg-color);\n",
              "    box-shadow: 0 1px 2px rgba(60, 64, 67, 0.3), 0 1px 3px 1px rgba(60, 64, 67, 0.15);\n",
              "    fill: var(--button-hover-fill-color);\n",
              "  }\n",
              "\n",
              "  .colab-df-quickchart-complete:disabled,\n",
              "  .colab-df-quickchart-complete:disabled:hover {\n",
              "    background-color: var(--disabled-bg-color);\n",
              "    fill: var(--disabled-fill-color);\n",
              "    box-shadow: none;\n",
              "  }\n",
              "\n",
              "  .colab-df-spinner {\n",
              "    border: 2px solid var(--fill-color);\n",
              "    border-color: transparent;\n",
              "    border-bottom-color: var(--fill-color);\n",
              "    animation:\n",
              "      spin 1s steps(1) infinite;\n",
              "  }\n",
              "\n",
              "  @keyframes spin {\n",
              "    0% {\n",
              "      border-color: transparent;\n",
              "      border-bottom-color: var(--fill-color);\n",
              "      border-left-color: var(--fill-color);\n",
              "    }\n",
              "    20% {\n",
              "      border-color: transparent;\n",
              "      border-left-color: var(--fill-color);\n",
              "      border-top-color: var(--fill-color);\n",
              "    }\n",
              "    30% {\n",
              "      border-color: transparent;\n",
              "      border-left-color: var(--fill-color);\n",
              "      border-top-color: var(--fill-color);\n",
              "      border-right-color: var(--fill-color);\n",
              "    }\n",
              "    40% {\n",
              "      border-color: transparent;\n",
              "      border-right-color: var(--fill-color);\n",
              "      border-top-color: var(--fill-color);\n",
              "    }\n",
              "    60% {\n",
              "      border-color: transparent;\n",
              "      border-right-color: var(--fill-color);\n",
              "    }\n",
              "    80% {\n",
              "      border-color: transparent;\n",
              "      border-right-color: var(--fill-color);\n",
              "      border-bottom-color: var(--fill-color);\n",
              "    }\n",
              "    90% {\n",
              "      border-color: transparent;\n",
              "      border-bottom-color: var(--fill-color);\n",
              "    }\n",
              "  }\n",
              "</style>\n",
              "\n",
              "  <script>\n",
              "    async function quickchart(key) {\n",
              "      const quickchartButtonEl =\n",
              "        document.querySelector('#' + key + ' button');\n",
              "      quickchartButtonEl.disabled = true;  // To prevent multiple clicks.\n",
              "      quickchartButtonEl.classList.add('colab-df-spinner');\n",
              "      try {\n",
              "        const charts = await google.colab.kernel.invokeFunction(\n",
              "            'suggestCharts', [key], {});\n",
              "      } catch (error) {\n",
              "        console.error('Error during call to suggestCharts:', error);\n",
              "      }\n",
              "      quickchartButtonEl.classList.remove('colab-df-spinner');\n",
              "      quickchartButtonEl.classList.add('colab-df-quickchart-complete');\n",
              "    }\n",
              "    (() => {\n",
              "      let quickchartButtonEl =\n",
              "        document.querySelector('#df-9cf9eb78-3555-4f7f-9881-bcbf6c48ed92 button');\n",
              "      quickchartButtonEl.style.display =\n",
              "        google.colab.kernel.accessAllowed ? 'block' : 'none';\n",
              "    })();\n",
              "  </script>\n",
              "</div>\n",
              "\n",
              "    </div>\n",
              "  </div>\n"
            ],
            "application/vnd.google.colaboratory.intrinsic+json": {
              "type": "dataframe",
              "summary": "{\n  \"name\": \"df\",\n  \"rows\": 849,\n  \"fields\": [\n    {\n      \"column\": \"Service_types\",\n      \"properties\": {\n        \"dtype\": \"number\",\n        \"std\": 0,\n        \"min\": 0,\n        \"max\": 1,\n        \"num_unique_values\": 2,\n        \"samples\": [\n          0,\n          1\n        ],\n        \"semantic_type\": \"\",\n        \"description\": \"\"\n      }\n    },\n    {\n      \"column\": \"Packet_service\",\n      \"properties\": {\n        \"dtype\": \"number\",\n        \"std\": 1,\n        \"min\": 0,\n        \"max\": 5,\n        \"num_unique_values\": 6,\n        \"samples\": [\n          0,\n          1\n        ],\n        \"semantic_type\": \"\",\n        \"description\": \"\"\n      }\n    },\n    {\n      \"column\": \"Media_transmisi\",\n      \"properties\": {\n        \"dtype\": \"number\",\n        \"std\": 0,\n        \"min\": 0,\n        \"max\": 3,\n        \"num_unique_values\": 4,\n        \"samples\": [\n          1,\n          3\n        ],\n        \"semantic_type\": \"\",\n        \"description\": \"\"\n      }\n    },\n    {\n      \"column\": \"Bandwidth\",\n      \"properties\": {\n        \"dtype\": \"number\",\n        \"std\": 38,\n        \"min\": 5,\n        \"max\": 750,\n        \"num_unique_values\": 19,\n        \"samples\": [\n          10,\n          200\n        ],\n        \"semantic_type\": \"\",\n        \"description\": \"\"\n      }\n    },\n    {\n      \"column\": \"State\",\n      \"properties\": {\n        \"dtype\": \"number\",\n        \"std\": 2,\n        \"min\": 0,\n        \"max\": 12,\n        \"num_unique_values\": 13,\n        \"samples\": [\n          11,\n          9\n        ],\n        \"semantic_type\": \"\",\n        \"description\": \"\"\n      }\n    },\n    {\n      \"column\": \"Partner\",\n      \"properties\": {\n        \"dtype\": \"number\",\n        \"std\": 0,\n        \"min\": 0,\n        \"max\": 1,\n        \"num_unique_values\": 2,\n        \"samples\": [\n          0,\n          1\n        ],\n        \"semantic_type\": \"\",\n        \"description\": \"\"\n      }\n    },\n    {\n      \"column\": \"Contract\",\n      \"properties\": {\n        \"dtype\": \"number\",\n        \"std\": 0,\n        \"min\": 0,\n        \"max\": 1,\n        \"num_unique_values\": 2,\n        \"samples\": [\n          0,\n          1\n        ],\n        \"semantic_type\": \"\",\n        \"description\": \"\"\n      }\n    },\n    {\n      \"column\": \"Complaint\",\n      \"properties\": {\n        \"dtype\": \"number\",\n        \"std\": 0,\n        \"min\": 0,\n        \"max\": 1,\n        \"num_unique_values\": 2,\n        \"samples\": [\n          1,\n          0\n        ],\n        \"semantic_type\": \"\",\n        \"description\": \"\"\n      }\n    },\n    {\n      \"column\": \"Churn\",\n      \"properties\": {\n        \"dtype\": \"number\",\n        \"std\": 0,\n        \"min\": 0,\n        \"max\": 1,\n        \"num_unique_values\": 2,\n        \"samples\": [\n          1,\n          0\n        ],\n        \"semantic_type\": \"\",\n        \"description\": \"\"\n      }\n    }\n  ]\n}"
            }
          },
          "metadata": {},
          "execution_count": 128
        }
      ]
    },
    {
      "cell_type": "code",
      "source": [
        "#melihat type data kolom\n",
        "print(df.dtypes)"
      ],
      "metadata": {
        "colab": {
          "base_uri": "https://localhost:8080/"
        },
        "id": "0LQyS3V5jVOE",
        "outputId": "b0b0a374-074a-4ea4-c601-9acb68d1968f"
      },
      "execution_count": null,
      "outputs": [
        {
          "output_type": "stream",
          "name": "stdout",
          "text": [
            "Service_types        int64\n",
            "Packet_service       int64\n",
            "Media_transmisi      int64\n",
            "Bandwidth          float64\n",
            "State                int64\n",
            "Partner              int64\n",
            "Contract             int64\n",
            "Complaint            int64\n",
            "Churn                int64\n",
            "dtype: object\n"
          ]
        }
      ]
    },
    {
      "cell_type": "code",
      "source": [
        "#train dan test split\n",
        "X = df.drop('Churn',axis='columns')\n",
        "y = df['Churn']"
      ],
      "metadata": {
        "id": "PFVb2o5AjbaA"
      },
      "execution_count": null,
      "outputs": []
    },
    {
      "cell_type": "code",
      "source": [
        "from sklearn.preprocessing import StandardScaler\n",
        "\n",
        "# Scaling fitur\n",
        "scaler = StandardScaler()\n",
        "X_scaled = scaler.fit_transform(X)"
      ],
      "metadata": {
        "id": "iG37phgAk_sn"
      },
      "execution_count": null,
      "outputs": []
    },
    {
      "cell_type": "code",
      "source": [
        "# Gabungkan kembali data yang telah di-scaling dengan target\n",
        "df_scaled = pd.DataFrame(X_scaled, columns=df.columns[:-1])  # Kolom terakhir adalah Churn yang bukan fitur\n",
        "\n",
        "# Tambahkan kolom Churn kembali\n",
        "df_scaled['Churn'] = df['Churn']\n",
        "\n",
        "# Simpan DataFrame ke dalam file CSV\n",
        "file_path = 'preprocessed_data.csv'\n",
        "df_scaled.to_csv(file_path, index=False)\n"
      ],
      "metadata": {
        "id": "-9rX-CGcyKjf"
      },
      "execution_count": null,
      "outputs": []
    },
    {
      "cell_type": "code",
      "source": [
        "from tensorflow.keras.models import Sequential\n",
        "from tensorflow.keras.layers import LSTM, Bidirectional, Dropout, Dense\n",
        "\n",
        "# Definisikan model BiLSTM dalam sebuah fungsi\n",
        "def create_bilstm_model(input_shape):\n",
        "    model = Sequential([\n",
        "        Bidirectional(LSTM(units=64, return_sequences=True), input_shape=input_shape),\n",
        "        Dropout(0.2),\n",
        "        Bidirectional(LSTM(units=64, return_sequences=True)),\n",
        "        Dropout(0.2),\n",
        "        Bidirectional(LSTM(units=64)),\n",
        "        Dropout(0.2),\n",
        "        Dense(units=1, activation='sigmoid')\n",
        "    ])\n",
        "    model.compile(optimizer='adam', loss='binary_crossentropy', metrics=['accuracy'])\n",
        "    return model\n"
      ],
      "metadata": {
        "id": "2fPhS3OplCod"
      },
      "execution_count": null,
      "outputs": []
    },
    {
      "cell_type": "code",
      "source": [
        "from sklearn.model_selection import KFold\n",
        "from sklearn.metrics import confusion_matrix, classification_report\n",
        "\n",
        "# Inisialisasi K-Fold Cross-Validation\n",
        "kfold = KFold(n_splits=5, shuffle=True, random_state=42)\n",
        "\n",
        "# Simpan hasil dari setiap fold\n",
        "results = []\n",
        "confusion_matrices = []\n",
        "\n",
        "for train_index, val_index in kfold.split(X_scaled):\n",
        "    X_train, X_val = X_scaled[train_index], X_scaled[val_index]\n",
        "    y_train, y_val = y[train_index], y[val_index]\n",
        "\n",
        "    # Reshape data untuk sesuai dengan input model\n",
        "    X_train_reshaped = X_train.reshape((X_train.shape[0], X_train.shape[1], 1))\n",
        "    X_val_reshaped = X_val.reshape((X_val.shape[0], X_val.shape[1], 1))\n",
        "\n",
        "    # Buat dan latih model\n",
        "    model = create_bilstm_model((X_train_reshaped.shape[1], 1))\n",
        "    model.fit(X_train_reshaped, y_train, epochs=10, batch_size=32, verbose=1)\n",
        "\n",
        "    # Evaluasi model pada data validasi\n",
        "    y_pred = (model.predict(X_val_reshaped) > 0.5).astype(\"int32\")\n",
        "    scores = model.evaluate(X_val_reshaped, y_val, verbose=0)\n",
        "    results.append(scores[1])  # Menyimpan akurasi dari setiap fold\n",
        "\n",
        "    # Simpan confusion matrix\n",
        "    cm = confusion_matrix(y_val, y_pred)\n",
        "    confusion_matrices.append(cm)\n",
        "\n",
        "# Rata-rata hasil cross-validation\n",
        "mean_accuracy = np.mean(results)\n",
        "print(f\"Mean Cross-Validation Accuracy: {mean_accuracy}\")"
      ],
      "metadata": {
        "colab": {
          "base_uri": "https://localhost:8080/"
        },
        "id": "eCbOyoXfpFpt",
        "outputId": "6525aaea-cb4b-44bc-d408-b4ba82f6620b"
      },
      "execution_count": null,
      "outputs": [
        {
          "output_type": "stream",
          "name": "stdout",
          "text": [
            "Epoch 1/10\n",
            "22/22 [==============================] - 13s 60ms/step - loss: 0.5392 - accuracy: 0.7717\n",
            "Epoch 2/10\n",
            "22/22 [==============================] - 1s 60ms/step - loss: 0.3221 - accuracy: 0.8630\n",
            "Epoch 3/10\n",
            "22/22 [==============================] - 1s 63ms/step - loss: 0.3053 - accuracy: 0.8557\n",
            "Epoch 4/10\n",
            "22/22 [==============================] - 2s 85ms/step - loss: 0.2794 - accuracy: 0.8866\n",
            "Epoch 5/10\n",
            "22/22 [==============================] - 2s 73ms/step - loss: 0.2713 - accuracy: 0.8881\n",
            "Epoch 6/10\n",
            "22/22 [==============================] - 2s 75ms/step - loss: 0.2620 - accuracy: 0.8866\n",
            "Epoch 7/10\n",
            "22/22 [==============================] - 2s 73ms/step - loss: 0.2562 - accuracy: 0.8866\n",
            "Epoch 8/10\n",
            "22/22 [==============================] - 2s 70ms/step - loss: 0.2525 - accuracy: 0.8866\n",
            "Epoch 9/10\n",
            "22/22 [==============================] - 2s 73ms/step - loss: 0.2551 - accuracy: 0.8866\n",
            "Epoch 10/10\n",
            "22/22 [==============================] - 1s 57ms/step - loss: 0.2541 - accuracy: 0.8866\n",
            "6/6 [==============================] - 2s 9ms/step\n",
            "Epoch 1/10\n",
            "22/22 [==============================] - 12s 32ms/step - loss: 0.5274 - accuracy: 0.8351\n",
            "Epoch 2/10\n",
            "22/22 [==============================] - 1s 52ms/step - loss: 0.3159 - accuracy: 0.8822\n",
            "Epoch 3/10\n",
            "22/22 [==============================] - 1s 67ms/step - loss: 0.3157 - accuracy: 0.8984\n",
            "Epoch 4/10\n",
            "22/22 [==============================] - 1s 58ms/step - loss: 0.2694 - accuracy: 0.8984\n",
            "Epoch 5/10\n",
            "22/22 [==============================] - 1s 59ms/step - loss: 0.2560 - accuracy: 0.8984\n",
            "Epoch 6/10\n",
            "22/22 [==============================] - 1s 59ms/step - loss: 0.2663 - accuracy: 0.8984\n",
            "Epoch 7/10\n",
            "22/22 [==============================] - 2s 75ms/step - loss: 0.2480 - accuracy: 0.8984\n",
            "Epoch 8/10\n",
            "22/22 [==============================] - 1s 59ms/step - loss: 0.2481 - accuracy: 0.8984\n",
            "Epoch 9/10\n",
            "22/22 [==============================] - 1s 56ms/step - loss: 0.2454 - accuracy: 0.8984\n",
            "Epoch 10/10\n",
            "22/22 [==============================] - 1s 32ms/step - loss: 0.2443 - accuracy: 0.8984\n",
            "6/6 [==============================] - 3s 9ms/step\n",
            "Epoch 1/10\n",
            "22/22 [==============================] - 12s 32ms/step - loss: 0.5264 - accuracy: 0.7968\n",
            "Epoch 2/10\n",
            "22/22 [==============================] - 1s 31ms/step - loss: 0.3262 - accuracy: 0.8910\n",
            "Epoch 3/10\n",
            "22/22 [==============================] - 1s 33ms/step - loss: 0.2739 - accuracy: 0.8969\n",
            "Epoch 4/10\n",
            "22/22 [==============================] - 1s 33ms/step - loss: 0.2624 - accuracy: 0.8969\n",
            "Epoch 5/10\n",
            "22/22 [==============================] - 1s 31ms/step - loss: 0.2572 - accuracy: 0.8969\n",
            "Epoch 6/10\n",
            "22/22 [==============================] - 1s 32ms/step - loss: 0.2483 - accuracy: 0.8969\n",
            "Epoch 7/10\n",
            "22/22 [==============================] - 1s 32ms/step - loss: 0.2450 - accuracy: 0.8969\n",
            "Epoch 8/10\n",
            "22/22 [==============================] - 1s 31ms/step - loss: 0.2447 - accuracy: 0.8969\n",
            "Epoch 9/10\n",
            "22/22 [==============================] - 1s 31ms/step - loss: 0.2439 - accuracy: 0.8969\n",
            "Epoch 10/10\n",
            "22/22 [==============================] - 1s 32ms/step - loss: 0.2482 - accuracy: 0.8969\n",
            "6/6 [==============================] - 4s 9ms/step\n",
            "Epoch 1/10\n",
            "22/22 [==============================] - 12s 33ms/step - loss: 0.5137 - accuracy: 0.7850\n",
            "Epoch 2/10\n",
            "22/22 [==============================] - 1s 32ms/step - loss: 0.3190 - accuracy: 0.8719\n",
            "Epoch 3/10\n",
            "22/22 [==============================] - 1s 31ms/step - loss: 0.2977 - accuracy: 0.8616\n",
            "Epoch 4/10\n",
            "22/22 [==============================] - 1s 31ms/step - loss: 0.2701 - accuracy: 0.8866\n",
            "Epoch 5/10\n",
            "22/22 [==============================] - 1s 33ms/step - loss: 0.2557 - accuracy: 0.8881\n",
            "Epoch 6/10\n",
            "22/22 [==============================] - 1s 32ms/step - loss: 0.2503 - accuracy: 0.8881\n",
            "Epoch 7/10\n",
            "22/22 [==============================] - 1s 31ms/step - loss: 0.2529 - accuracy: 0.8881\n",
            "Epoch 8/10\n",
            "22/22 [==============================] - 1s 38ms/step - loss: 0.2486 - accuracy: 0.8881\n",
            "Epoch 9/10\n",
            "22/22 [==============================] - 1s 55ms/step - loss: 0.2479 - accuracy: 0.8881\n",
            "Epoch 10/10\n",
            "22/22 [==============================] - 1s 59ms/step - loss: 0.2466 - accuracy: 0.8881\n",
            "6/6 [==============================] - 3s 9ms/step\n",
            "Epoch 1/10\n",
            "22/22 [==============================] - 15s 32ms/step - loss: 0.5295 - accuracy: 0.7765\n",
            "Epoch 2/10\n",
            "22/22 [==============================] - 1s 33ms/step - loss: 0.3104 - accuracy: 0.8750\n",
            "Epoch 3/10\n",
            "22/22 [==============================] - 1s 33ms/step - loss: 0.2881 - accuracy: 0.8824\n",
            "Epoch 4/10\n",
            "22/22 [==============================] - 1s 33ms/step - loss: 0.2615 - accuracy: 0.9000\n",
            "Epoch 5/10\n",
            "22/22 [==============================] - 1s 33ms/step - loss: 0.2493 - accuracy: 0.9000\n",
            "Epoch 6/10\n",
            "22/22 [==============================] - 1s 33ms/step - loss: 0.2436 - accuracy: 0.9000\n",
            "Epoch 7/10\n",
            "22/22 [==============================] - 1s 55ms/step - loss: 0.2399 - accuracy: 0.9000\n",
            "Epoch 8/10\n",
            "22/22 [==============================] - 1s 58ms/step - loss: 0.2395 - accuracy: 0.9000\n",
            "Epoch 9/10\n",
            "22/22 [==============================] - 1s 59ms/step - loss: 0.2389 - accuracy: 0.9000\n",
            "Epoch 10/10\n",
            "22/22 [==============================] - 1s 59ms/step - loss: 0.2376 - accuracy: 0.9000\n",
            "6/6 [==============================] - 3s 17ms/step\n",
            "Mean Cross-Validation Accuracy: 0.8939644932746887\n"
          ]
        }
      ]
    },
    {
      "cell_type": "code",
      "source": [
        "# Rata-rata hasil cross-validation\n",
        "mean_accuracy = np.mean(results)\n",
        "print(f\"Mean Cross-Validation Accuracy: {mean_accuracy}\")"
      ],
      "metadata": {
        "colab": {
          "base_uri": "https://localhost:8080/"
        },
        "id": "6KKzrmxwpFwf",
        "outputId": "56d3afd5-1a89-4e57-ade4-37b4db4f7d3a"
      },
      "execution_count": null,
      "outputs": [
        {
          "output_type": "stream",
          "name": "stdout",
          "text": [
            "Mean Cross-Validation Accuracy: 0.8939644932746887\n"
          ]
        }
      ]
    },
    {
      "cell_type": "code",
      "source": [
        "# Rata-rata confusion matrix dari setiap fold\n",
        "average_cm = np.mean(confusion_matrices, axis=0)\n",
        "\n",
        "print(\"Confusion Matrices for each fold:\")\n",
        "for i, cm in enumerate(confusion_matrices):\n",
        "    print(f\"Fold {i + 1}:\")\n",
        "    print(cm)\n"
      ],
      "metadata": {
        "colab": {
          "base_uri": "https://localhost:8080/"
        },
        "id": "Noxlh0UKs8Rw",
        "outputId": "ee67f99d-12b2-42ad-9b00-913c28a476a8"
      },
      "execution_count": null,
      "outputs": [
        {
          "output_type": "stream",
          "name": "stdout",
          "text": [
            "Confusion Matrices for each fold:\n",
            "Fold 1:\n",
            "[[142   0]\n",
            " [ 13  15]]\n",
            "Fold 2:\n",
            "[[131   0]\n",
            " [ 21  18]]\n",
            "Fold 3:\n",
            "[[141   0]\n",
            " [ 20   9]]\n",
            "Fold 4:\n",
            "[[143   0]\n",
            " [ 14  13]]\n",
            "Fold 5:\n",
            "[[136   0]\n",
            " [ 22  11]]\n"
          ]
        }
      ]
    },
    {
      "cell_type": "code",
      "source": [
        "print(\"Average Confusion Matrix:\")\n",
        "print(average_cm)"
      ],
      "metadata": {
        "colab": {
          "base_uri": "https://localhost:8080/"
        },
        "id": "SD3tsbEPu4lA",
        "outputId": "3c2c9d9c-b893-42d0-9252-2c6cb79af44d"
      },
      "execution_count": null,
      "outputs": [
        {
          "output_type": "stream",
          "name": "stdout",
          "text": [
            "Average Confusion Matrix:\n",
            "[[138.6   0. ]\n",
            " [ 18.   13.2]]\n"
          ]
        }
      ]
    },
    {
      "cell_type": "code",
      "source": [
        "import matplotlib.pyplot as plt\n",
        "\n",
        "# Visualisasi hasil cross-validation\n",
        "plt.figure(figsize=(8, 6))\n",
        "plt.plot(range(1, len(results) + 1), results, marker='o', linestyle='--', color='b')\n",
        "plt.xlabel('Fold')\n",
        "plt.ylabel('Accuracy')\n",
        "plt.title('Cross-Validation Accuracy')\n",
        "plt.grid(True)\n",
        "plt.tight_layout()\n",
        "plt.show()"
      ],
      "metadata": {
        "colab": {
          "base_uri": "https://localhost:8080/",
          "height": 607
        },
        "id": "1NjZDeYIuPjz",
        "outputId": "c580c091-1acd-4847-ce0e-94f3124417f7"
      },
      "execution_count": null,
      "outputs": [
        {
          "output_type": "display_data",
          "data": {
            "text/plain": [
              "<Figure size 800x600 with 1 Axes>"
            ],
            "image/png": "[encoded data removed]"
          },
          "metadata": {}
        }
      ]
    },
    {
      "cell_type": "code",
      "source": [
        "import seaborn as sns\n",
        "\n",
        "# Visualisasi average confusion matrix\n",
        "plt.figure(figsize=(8, 6))\n",
        "sns.heatmap(average_cm, annot=True, cmap='Blues', fmt='.0f', cbar=False)\n",
        "plt.xlabel('Predicted labels')\n",
        "plt.ylabel('True labels')\n",
        "plt.title('Average Confusion Matrix')\n",
        "plt.show()"
      ],
      "metadata": {
        "colab": {
          "base_uri": "https://localhost:8080/",
          "height": 564
        },
        "id": "Mj3ZwFGtuUEy",
        "outputId": "31e9fa0f-64cf-4c0a-8a16-c08eb4231f94"
      },
      "execution_count": null,
      "outputs": [
        {
          "output_type": "display_data",
          "data": {
            "text/plain": [
              "<Figure size 800x600 with 1 Axes>"
            ],
            "image/png": "[encoded data removed]"
          },
          "metadata": {}
        }
      ]
    },
    {
      "cell_type": "code",
      "source": [
        "# laporan klasifikasi untuk setiap fold\n",
        "for i, (train_index, val_index) in enumerate(kfold.split(X_scaled)):\n",
        "    X_train, X_val = X_scaled[train_index], X_scaled[val_index]\n",
        "    y_train, y_val = y[train_index], y[val_index]\n",
        "\n",
        "    X_train_reshaped = X_train.reshape((X_train.shape[0], X_train.shape[1], 1))\n",
        "    X_val_reshaped = X_val.reshape((X_val.shape[0], X_val.shape[1], 1))\n",
        "\n",
        "    model = create_bilstm_model((X_train_reshaped.shape[1], 1))\n",
        "    model.fit(X_train_reshaped, y_train, epochs=10, batch_size=32, verbose=0)\n",
        "\n",
        "    y_pred = (model.predict(X_val_reshaped) > 0.5).astype(\"int32\")\n",
        "    print(f\"Classification Report for fold {i + 1}:\")\n",
        "    print(classification_report(y_val, y_pred))"
      ],
      "metadata": {
        "colab": {
          "base_uri": "https://localhost:8080/"
        },
        "id": "ewX8_DgHs9ib",
        "outputId": "bef2757e-69d3-4cc7-e3f8-878bccb4cefc"
      },
      "execution_count": null,
      "outputs": [
        {
          "output_type": "stream",
          "name": "stdout",
          "text": [
            "6/6 [==============================] - 2s 17ms/step\n",
            "Classification Report for fold 1:\n",
            "              precision    recall  f1-score   support\n",
            "\n",
            "           0       0.92      1.00      0.96       142\n",
            "           1       1.00      0.54      0.70        28\n",
            "\n",
            "    accuracy                           0.92       170\n",
            "   macro avg       0.96      0.77      0.83       170\n",
            "weighted avg       0.93      0.92      0.91       170\n",
            "\n",
            "6/6 [==============================] - 2s 9ms/step\n",
            "Classification Report for fold 2:\n",
            "              precision    recall  f1-score   support\n",
            "\n",
            "           0       0.86      1.00      0.93       131\n",
            "           1       1.00      0.46      0.63        39\n",
            "\n",
            "    accuracy                           0.88       170\n",
            "   macro avg       0.93      0.73      0.78       170\n",
            "weighted avg       0.89      0.88      0.86       170\n",
            "\n",
            "6/6 [==============================] - 2s 8ms/step\n",
            "Classification Report for fold 3:\n",
            "              precision    recall  f1-score   support\n",
            "\n",
            "           0       0.88      1.00      0.93       141\n",
            "           1       1.00      0.31      0.47        29\n",
            "\n",
            "    accuracy                           0.88       170\n",
            "   macro avg       0.94      0.66      0.70       170\n",
            "weighted avg       0.90      0.88      0.86       170\n",
            "\n",
            "6/6 [==============================] - 2s 9ms/step\n",
            "Classification Report for fold 4:\n",
            "              precision    recall  f1-score   support\n",
            "\n",
            "           0       0.91      1.00      0.95       143\n",
            "           1       1.00      0.48      0.65        27\n",
            "\n",
            "    accuracy                           0.92       170\n",
            "   macro avg       0.96      0.74      0.80       170\n",
            "weighted avg       0.92      0.92      0.91       170\n",
            "\n",
            "6/6 [==============================] - 3s 16ms/step\n",
            "Classification Report for fold 5:\n",
            "              precision    recall  f1-score   support\n",
            "\n",
            "           0       0.86      1.00      0.93       136\n",
            "           1       1.00      0.33      0.50        33\n",
            "\n",
            "    accuracy                           0.87       169\n",
            "   macro avg       0.93      0.67      0.71       169\n",
            "weighted avg       0.89      0.87      0.84       169\n",
            "\n"
          ]
        }
      ]
    },
    {
      "cell_type": "code",
      "source": [],
      "metadata": {
        "id": "Vr0TwnjXqpr9"
      },
      "execution_count": null,
      "outputs": []
    },
    {
      "cell_type": "code",
      "source": [],
      "metadata": {
        "id": "KiWDuES6tV67"
      },
      "execution_count": null,
      "outputs": []
    }
  ]
}